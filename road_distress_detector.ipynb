{
  "nbformat": 4,
  "nbformat_minor": 0,
  "metadata": {
    "colab": {
      "name": "road-distress-detector.ipynb",
      "provenance": [],
      "mount_file_id": "1-7ffuiGM0XMRL8VMh_I7ywRxWx02YGXQ",
      "authorship_tag": "ABX9TyNh3cGiN5TCoWdei930h+Zs",
      "include_colab_link": true
    },
    "kernelspec": {
      "name": "python3",
      "display_name": "Python 3"
    },
    "language_info": {
      "name": "python"
    }
  },
  "cells": [
    {
      "cell_type": "markdown",
      "metadata": {
        "id": "view-in-github",
        "colab_type": "text"
      },
      "source": [
        "<a href=\"https://colab.research.google.com/github/MMoronto/Active-Record-Association-Methods-cb-000/blob/master/road_distress_detector.ipynb\" target=\"_parent\"><img src=\"https://colab.research.google.com/assets/colab-badge.svg\" alt=\"Open In Colab\"/></a>"
      ]
    },
    {
      "cell_type": "code",
      "metadata": {
        "colab": {
          "base_uri": "https://localhost:8080/"
        },
        "id": "2K4CHGeCdf_s",
        "outputId": "ad6ba905-c460-4374-8de0-9e8d33c582d4"
      },
      "source": [
        "# Launch VSCode server\n",
        "!curl -fsSL https://code-server.dev/install.sh | sh\n",
        "!nohup code-server --port 9000 --auth none &\n",
        "\n",
        "# Tunnel its IP using ngrok\n",
        "!pip install pyngrok\n",
        "from pyngrok import ngrok\n",
        "# ngrok.set_auth_token(\"get from https://dashboard.ngrok.com/auth/your-authtoken, if you want to pay $10/month for a little bit better service\")\n",
        "url = ngrok.connect(9000)\n",
        "print(url)"
      ],
      "execution_count": 1,
      "outputs": [
        {
          "output_type": "stream",
          "name": "stdout",
          "text": [
            "Ubuntu 18.04.5 LTS\n",
            "Installing v3.12.0 of the amd64 deb package from GitHub.\n",
            "\n",
            "+ Reusing ~/.cache/code-server/code-server_3.12.0_amd64.deb\n",
            "+ dpkg -i ~/.cache/code-server/code-server_3.12.0_amd64.deb\n",
            "(Reading database ... 164139 files and directories currently installed.)\n",
            "Preparing to unpack .../code-server_3.12.0_amd64.deb ...\n",
            "Unpacking code-server (3.12.0) over (3.12.0) ...\n",
            "Setting up code-server (3.12.0) ...\n",
            "\n",
            "deb package has been installed.\n",
            "\n",
            "To have systemd start code-server now and restart on boot:\n",
            "  sudo systemctl enable --now code-server@$USER\n",
            "Or, if you don't want/need a background service you can run:\n",
            "  code-server\n",
            "nohup: appending output to 'nohup.out'\n",
            "Requirement already satisfied: pyngrok in /usr/local/lib/python3.7/dist-packages (5.1.0)\n",
            "Requirement already satisfied: PyYAML in /usr/local/lib/python3.7/dist-packages (from pyngrok) (3.13)\n",
            "NgrokTunnel: \"http://b853-35-236-217-181.ngrok.io\" -> \"http://localhost:9000\"\n"
          ]
        }
      ]
    },
    {
      "cell_type": "markdown",
      "metadata": {
        "id": "Lt1anf6Kuxqe"
      },
      "source": [
        "##**Basic CNN for pothole detectioin using Fastai**##"
      ]
    },
    {
      "cell_type": "code",
      "metadata": {
        "id": "uHwe-A5Sn0FB"
      },
      "source": [
        "from pathlib import Path\n",
        "\n",
        "from fastai.basic_data import DatasetType\n",
        "from fastai.callbacks import SaveModelCallback\n",
        "from fastai.metrics import accuracy\n",
        "from fastai.train import ClassificationInterpretation\n",
        "from fastai.vision.data import ImageList\n",
        "from fastai.vision.learner import cnn_learner\n",
        "from fastai.vision.models import resnet18\n",
        "from fastai.vision.transform import ResizeMethod, get_transforms\n",
        "from fastai.vision import imagenet_stats\n",
        "\n",
        "import pandas as pd"
      ],
      "execution_count": 1,
      "outputs": []
    },
    {
      "cell_type": "markdown",
      "metadata": {
        "id": "mc1R9ooc5ojw"
      },
      "source": [
        "##**Data**##\n",
        "Create a fastai databunch\n",
        "\n",
        "Specify:     \n",
        "* image location\n",
        "* split dataset into testing and training batches\n",
        "* specify image lebelling schema\n",
        "* specify transformation and preproc operations to be applied to the images before passing them on to the model\n",
        "* batch sizes"
      ]
    },
    {
      "cell_type": "code",
      "metadata": {
        "id": "EN9OJtv4uK94"
      },
      "source": [
        "path = Path('data')\n",
        "il = ImageList.from_csv(path, 'train_ids_labels.csv', folder='all_data', suffix='.JPG')\n",
        "sd = il.split_by_rand_pct(0.15)\n",
        "ll = sd.label_from_df()\n",
        "ll = ll.transform(get_transforms(), size=224)\n",
        "data = ll.databunch(bs=64).normalize(imagenet_stats)"
      ],
      "execution_count": null,
      "outputs": []
    },
    {
      "cell_type": "markdown",
      "metadata": {
        "id": "_SXFo0U68vwQ"
      },
      "source": [
        "Add the test set to the databunch:    "
      ]
    },
    {
      "cell_type": "code",
      "metadata": {
        "id": "oB8zj-9286NS"
      },
      "source": [
        "test = (ImageList.from_csv(path, 'test_ids_only.csv', folder='all_data', suffix='.JPG'))\n",
        "data.add_test(test)"
      ],
      "execution_count": null,
      "outputs": []
    },
    {
      "cell_type": "markdown",
      "metadata": {
        "id": "aFv1vOj79RoZ"
      },
      "source": [
        "The databunch looks like the followig:"
      ]
    },
    {
      "cell_type": "code",
      "metadata": {
        "id": "ToNiwkn69aFl"
      },
      "source": [
        "data"
      ],
      "execution_count": null,
      "outputs": []
    },
    {
      "cell_type": "markdown",
      "metadata": {
        "id": "9i0zk_A99el_"
      },
      "source": [
        "Inspect the imagelist:    "
      ]
    },
    {
      "cell_type": "code",
      "metadata": {
        "id": "91geNM609oLN"
      },
      "source": [
        "il"
      ],
      "execution_count": null,
      "outputs": []
    },
    {
      "cell_type": "markdown",
      "metadata": {
        "id": "O4Ef21XU9q7T"
      },
      "source": [
        "Inspect a data batch:"
      ]
    },
    {
      "cell_type": "code",
      "metadata": {
        "id": "bQCMOQ5c93uI"
      },
      "source": [
        "data.show_batch(3)"
      ],
      "execution_count": null,
      "outputs": []
    }
  ]
}